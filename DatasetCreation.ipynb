{
  "nbformat": 4,
  "nbformat_minor": 0,
  "metadata": {
    "colab": {
      "provenance": [],
      "mount_file_id": "1abaXPsy46-yxhRNDlcYGI6-VYaMR5AUR",
      "authorship_tag": "ABX9TyPCPVB8yNuHtU0q5oaAP7UF",
      "include_colab_link": true
    },
    "kernelspec": {
      "name": "python3",
      "display_name": "Python 3"
    },
    "language_info": {
      "name": "python"
    }
  },
  "cells": [
    {
      "cell_type": "markdown",
      "metadata": {
        "id": "view-in-github",
        "colab_type": "text"
      },
      "source": [
        "<a href=\"https://colab.research.google.com/github/sdinesh01/script-storyboard-generator/blob/main/DatasetCreation.ipynb\" target=\"_parent\"><img src=\"https://colab.research.google.com/assets/colab-badge.svg\" alt=\"Open In Colab\"/></a>"
      ]
    },
    {
      "cell_type": "markdown",
      "source": [
        "# Dataset Creation\n"
      ],
      "metadata": {
        "id": "zoStxNJUlXRZ"
      }
    },
    {
      "cell_type": "markdown",
      "source": [
        "1. Sources of the dataset\n",
        "\n",
        "  I got the dataset from [Kaggle](https://www.kaggle.com/datasets/gufukuro/movie-scripts-corpus). Specifically, I downloaded five of the raw text movie scripts that the dataset authors manually annotated by scene heading, character, dialog, and text. \n",
        "\n",
        "  The dataset is licensed for free use with attributions via a Creative Commons license. \n",
        "\n",
        "2. Description of the dataset\n",
        "    \n",
        "    The original dataset is 2.2 GB, though I only downloaded the individual files that I planned to use. The format of the data was raw text, so I was was left to create the structure of the dataset. \n",
        "\n",
        "3. Data models and data structures\n",
        "\n",
        "    I was unsure how to structure and format the raw text for analysis when I received it. My preliminary thought was to create a dataframe to analyze each movie script separately, then create a merged, final dataframe. I used regular expressions to extract individual scenes from each movie. Then, I created a unique document ID and sceneID for each script. Finally, just as preliminary exploratory data analysis, I created a column for all of the upper case headings in the text string. \n",
        "\n",
        "    Columns: scriptID, sceneID, text, upper\n",
        "\n",
        "    I have included some of my initial code below. I repeated the following process for five total scripts. \n",
        "\n",
        "    For next steps, I'd like to find a way to break up each line of text by its individual scene components (character_heading, dialog, text). I'm unsure how structure that secondary DF for analysis. "
      ],
      "metadata": {
        "id": "E3Ke4ogBlgDO"
      }
    },
    {
      "cell_type": "code",
      "source": [
        "import pandas as pd\n",
        "import numpy as np\n",
        "import re\n",
        "import requests"
      ],
      "metadata": {
        "id": "ioeC2UHErAeI"
      },
      "execution_count": 5,
      "outputs": []
    },
    {
      "cell_type": "code",
      "source": [
        "path = '/content/drive/MyDrive/Colab Notebooks/NLP/final/Pans_Labyrinth.txt'\n",
        "with open(path, 'r') as f:\n",
        "    data = f.read()"
      ],
      "metadata": {
        "id": "jlRMPP6clXw8"
      },
      "execution_count": 17,
      "outputs": []
    },
    {
      "cell_type": "code",
      "source": [
        "data"
      ],
      "metadata": {
        "colab": {
          "base_uri": "https://localhost:8080/",
          "height": 140
        },
        "id": "xYTirFJZrE5Q",
        "outputId": "c6887eb7-b154-4af3-f33e-a51823e55374"
      },
      "execution_count": 18,
      "outputs": [
        {
          "output_type": "execute_result",
          "data": {
            "text/plain": [
              "'scene_heading: EXT. LABYRINTH - NIGHT\\n\\ntext: In the foreground, OFELIA - 11 years old, skin white as\\nsnow, ruby lips and ebony hair - is sprawled on the ground.\\nA thick ribbon of blood runs from her nose.\\nBut - the blood is flowing backward into her nostril. Drop\\nby drop, the blood leaps up and disappears.\\nOfelia\\'s pupils dilate-\\n\\nspeaker_heading: NARRATOR\\n\\ndialog: Long ago in the Underground Realm...\\n\\ntext: CAMERA MOVES INTO THE DARK PUPIL-\\n\\nspeaker_heading: NARRATOR\\n\\ndialog: ...where there are no lies or pain, there\\nlived a Princess who dreamt of the human\\nworld.\\n\\ntext: The sound of muffled wind.\\n\\nspeaker_heading: NARRATOR\\n\\ndialog: She dreamt of blue skies, the soft breeze\\nand sunshine...\\n\\ntext: A dark CASTLE takes shape. Here, a tower... there, a\\nturret... and lighted windows.\\nFinally, the damp, mildewed walls of a water well come into\\nfocus.\\n\\nspeaker_heading: NARRATOR\\n\\ndialog: One day, eluding her keepers, the\\nPrincess escaped.\\n\\ntext: A woman\\'s silhouette crosses CAMERA-\\n\\nspeaker_heading: NARRATOR\\n\\ndialog: Once outside, the brightness blinded her\\nand erased her memory...\\n\\ntext: A circular staircase leads up... toward daylight, where the\\nimage...\\n\\nspeaker_heading: NARRATOR\\n\\ndialog: She forgot who she was and where she came\\nfrom. Her body suffered cold, sickness\\nand pain. Eventually, she died.\\n\\nscene_heading: EXT. BOMBED CITY - DAY\\n\\ntext: CAMERA TRACKS past scenes of destruction: bombed-out\\nbuildings... cathedrals in ruins.\\n\\nspeaker_heading: NARRATOR\\n\\ndialog: Her father, the King, always knew that\\nthe Princess would return, perhaps in\\nanother body, in another place, at\\nanother time.\\n\\ntext: On half-demolished walls, Falangist posters declare Franco\\'s\\ntriumph. Among the ruins, smaller, poignant traces of war:\\nshoes, broken eye-glasses...\\n\\nspeaker_heading: NARRATOR\\n\\ndialog: And he would wait for her, until he drew\\nhis last breath, until the world stopped\\nturning...\\n\\ntext: Through the ruined buildings, a SMALL CARAVAN OF BLACK\\nBENTLEY CARS comes into view.\\nThe shiny chrome fenders pass directly by CAMERA; they bear\\nall the Fascist insignias and flags.\\n\\nscene_heading: INT. MAIN CAR - SAME\\n\\ntext: Looking out the window: OFELIA.\\nShe\\'s dressed in plain, slightly frayed clothing. Not very\\ndainty. On her lap is a book of fairy tales.\\nCAMERA studies one of the watercolors that adorn the pages:\\nan illustration of a little girl dancing with several\\nfairies flying around her.\\nAt her side, a small pile of similar books in a book strap.\\n\\nspeaker_heading: CARMEN\\n\\ndialog: I don\\'t understand why you had to bring\\nso many books, Ofelia.\\n\\ntext: Ofelia turns her gaze toward the opposite seat, where her\\nmother, CARMEN, 28, is napping, her enormous stomach\\nevidence of advanced pregnancy. She, too, has black hair.\\n\\nspeaker_heading: CARMEN\\n\\ndialog: We\\'re going to the country... the\\noutdoors... plenty of fresh air.\\n\\ntext: She takes the book away from Ofelia.\\n\\nspeaker_heading: CARMEN\\n\\ndialog: Fairy tales? You\\'re too old to be filling\\nyour head with such nonsense.\\n\\ntext: She pauses, feeling nausea.\\n\\nspeaker_heading: CARMEN\\n\\ndialog: Ask them to stop the car- please-\\n\\ntext: Ofelia knocks on the partition window of the sedan. The\\nDriver stops.\\n\\nscene_heading: EXT. WOODS - SAME\\n\\ntext: The caravan of cars stops. Carmen hurriedly climbs down and\\nmoves to the front of the main car.\\nGasping for air, she battles the nausea. Ofelia timidly\\napproaches her.\\n\\nspeaker_heading: CARMEN\\n\\ndialog: Ofelia, wait up.\\n\\ntext: She grabs her pregnant abdomen.\\n\\nspeaker_heading: CARMEN\\n\\ndialog: Your brother\\'s not well.\\n\\ntext: Ofelia nods and moves away. SERRANO, a military man, climbs\\nout of the car behind them and approaches Carmen solicitous.\\n\\nspeaker_heading: SERRANO\\n\\ndialog: Madam, are you feeling ill?\\n\\nspeaker_heading: CARMEN\\n\\ndialog: Water- just a bit of water-\\n\\nspeaker_heading: SERRANO\\n\\ndialog: (to one of his men)\\nWater, bring water for the Captain\\'s\\nwife.\\n\\ntext: Ofelia walks alongside the road, moving into the woods and\\nfurther away from the caravan of cars.\\nCAMERA surveys the heavy forest: a tangled tapestry of moss\\nand fog. The trees, swayed by the wind, murmur softly around Ofelia.\\nShe stumbles upon a strange stone by the side of the road.\\nRoughly the size of a fist- carved on it, the outline of a\\nhuman EYE.\\nFascinated, the young girl picks it up.\\nShe looks around and finds -amidst the shrubs- an ancient\\nstone monolith incised with Celtic lettering.\\nIt\\'s crowned with the grotesque face of a satyr- mouth open\\nwide.\\nA piece of the brutish face is missing: an eye.\\nOfelia fits the piece of engraved stone in the missing area.\\nA perfect fit.\\nFrom inside the statue a clicking noise emerges. The wind\\npicks up and out of the satyr\\'s open mouth, a STICK INSECT lazily crawls\\nout. Ofelia smiles. The insect climbs atop the stone head\\nand studies the girl for a moment. Then\\n\\nspeaker_heading: CARMEN\\n\\ndialog: Ofelia??\\n\\ntext: The sound of Carmen\\'s voice startles the creature, which flies\\noff. Ofelia runs to her mother\\'s side.\\n\\nspeaker_heading: OFELIA.\\n\\ndialog: (enthusiastic)\\nA fairy- I saw a fairy!!\\n\\nspeaker_heading: CARMEN\\n\\ndialog: Oh- look at your shoes!! They\\'re covered\\nin mud!\\n\\ntext: They head back to the caravan.\\n\\nspeaker_heading: CARMEN\\n\\ndialog: When we get to the mill I want you to\\ngreet Captain Vidal.\\nThat man- has been very good to us,\\ndarling. You have no idea-\\nSo, I want you to call him \"Father.\" Do\\nyou hear me? \"Father...\"\\nIt\\'s just a word, Ofelia.\\n\\ntext: The Stick Insect lands in a nearby tree and observes inquisitively\\nas Mother and daughter climb into the main car and head off.\\nA beat later, the Stick Insect flies after them.\\n\\nscene_heading:  INT. WATER MILL - DAY\\n\\ntext: CLOSE-UP: a gold pocket watch, on a heavy chain. The glass\\ndial is cracked...\\nA gloved THUMB snaps the cover shut. A VOICE - CAPTAIN VIDAL\\n- mutters in irritation.\\n\\nspeaker_heading: VIDAL\\n\\ndialog: Fifteen minutes late.\\n\\ntext: ANGLE WIDENS to describe a dilapidated WATER MILL.\\nThe site consists of a pair of dark stone buildings with\\ncorrugated roofs, connected to the mill by a small stone\\nbridge. A large water wheel hangs over the dry riverbed.\\nThe wooden beams and columns bear sculpted Celtic motifs and\\nhere and there, small, odd, carved creatures.\\nThe walls have been reinforced with hundreds of sand-bags\\nand wooden pontoons, as if preparing for an attack.\\nCAPTAIN VIDAL and a small group of SERVANTS and SOLDIERS\\nwait patiently outside.\\n\\nspeaker_heading: SOLDIER\\n\\ndialog: Captain!! They\\'re here-\\n\\ntext: The caravan of Bentleys stops in front of the building. Vidal\\nand his group moves in. Servants and Soldiers unload luggage\\nwithy military efficiency. In charge is MERCEDES, a young\\nbut strict country woman.\\nVidal greets Carmen.\\n\\nspeaker_heading: VIDAL\\n\\ndialog: Carmen- Welcome-\\n\\ntext: With a pleasant smile, he touches her pregnant belly and\\nthen points at a wooden wheelchair pushed to Carmen\\'s side\\nby a small, nervous man SGT. GARCES. By his side stands\\nDOCTOR FERREIRO, a pleasant, scholarly man in his mid\\nforties.\\n\\nspeaker_heading: CARMEN\\n\\ndialog: I- I don\\'t need it- I can walk by myself.\\n\\nspeaker_heading: VIDAL\\n\\ndialog: Doctor Ferreiro prefers that you don\\'t\\nexert yourself.\\n\\nspeaker_heading: CARMEN\\n\\ndialog: N-no...\\n\\ntext: Vidal leans towards her and whispers -ever so softly- in her\\near:\\n\\nspeaker_heading: VIDAL\\n\\ndialog: Then do it for me...\\n\\ntext: She obeys. As she sits, Ofelia exits the automobile, holding\\nher books close to her chest.\\n\\nspeaker_heading: CARMEN\\n\\ndialog: Ofelia. Greet the Captain.\\n\\ntext:  She is wheeled away. An awkward silence passes between the\\nyoung girl and the Captain.\\n\\nspeaker_heading: VIDAL\\n\\ndialog: Ofelia-\\n\\ntext: The girl extends her hand. He grabs it, firm but cold. It is\\nher left hand.\\n\\nspeaker_heading: VIDAL\\n\\ndialog:  It\\'s the other hand, Ofelia.\\n\\ntext: He turns to the servants.\\n\\nspeaker_heading: VIDAL\\n\\ndialog: Mercedes, take my wife\\'s luggage to her\\nroom-\\n\\nspeaker_heading: MERCEDES\\n\\ndialog: Yes, sir.\\n\\ntext: Mercedes glances back to find Ofelia curiously gazing at-\\n-a pile of sandbags. Perched on top-\\n-the big Stick Insect.\\nIt fans out its multiple wings. Twice. Ofelia runs over and\\ntries to catch it.\\nBut the Stick Insect takes off and escapes. The girl drops her\\nbooks and goes after it.\\n\\nscene_heading: EXT. GARDENS - FURTHER - CONTINUOUS\\n\\ntext: Ofelia follows the Stick Insect to the edge of a small rise.\\nShe follows it with her eyes and sees, about 100 meters\\naway, surrounded by trees, the ruins of a garden LABYRINTH.\\nThe CAMERA glides up for a better view. The labyrinth is\\ncircular, its paths overgrown and partially blocked.\\nOfelia enters the labyrinth through an archway. She ventures\\ndown one of its pathways and stops-\\n\\nspeaker_heading: MERCEDES\\n\\ndialog: It\\'s a labyrinth-\\n\\ntext: Ofelia turns- the young woman stands by her side. Ofelia\\'s\\nbooks in hand.\\n\\nspeaker_heading: MERCEDES\\n\\ndialog: Just a pile of old stones.\\nThey\\'ve always been there, even before\\nthe mill. Better you don\\'t go near it-\\nYou could get lost.\\n\\ntext: A ray of sunlight breaks through the grey clouds and\\nilluminates the old ruins. Mercedes hands her the books.\\n\\nspeaker_heading: OFELIA.\\n\\ndialog: Thank you.\\n\\nspeaker_heading: MERCEDES\\n\\ndialog: Have you read them all?\\n\\ntext: Garcés shouts from the mill:\\n\\nspeaker_heading: GARCES\\n\\ndialog: Mercedes!\\n(Mercedes reacts)\\nThe Captain’s calling you.\\n\\ntext: Mercedes makes a small gesture of goodbye to Ofelia.\\n\\nspeaker_heading: MERCEDES\\n\\ndialog: Your father needs me.\\n\\ntext: She turns and walks away-\\n\\nspeaker_heading: OFELIA.\\n\\ndialog: He\\'s not my father.\\n\\ntext: Mercedes doesn\\'t understand. The girl runs up to her.\\n\\nspeaker_heading: OFELIA.\\n\\ndialog: The Captain- he\\'s not my father. My\\nfather was a tailor. He died in the war. The Captain’s not my father!\\n\\ntext: Mercedes can\\'t help but smile at the girl\\'s sudden\\nvehemence.\\n\\nspeaker_heading: MERCEDES\\n\\ndialog: Well, you\\'ve made that clear enough.\\n\\ntext: They walk away together.\\n\\nspeaker_heading: OFELIA.\\n\\ndialog: Did you see my mother?\\n(Mercedes nods)\\nShe\\'s pretty isn\\'t she?\\n(Mercedes nods)\\nYou saw her belly? She\\'s sick with child.\\n\\ntext: As they go into the house, the Stick Insect - perched atop\\nthe labyrinth\\'s archway - monitors their every move.\\n\\nscene_heading: INT. DINING ROOM - NIGHT\\n\\nspeaker_heading: VIDAL\\n\\ndialog: The guerillas are sticking to the woods\\nbecause it\\'s hard to track them down up\\nthere.\\n\\ntext: Vidal is standing at an enormous dining table. Serrano,\\nGarcés and a few lower-ranking officials surround him.\\n\\nspeaker_heading: VIDAL\\n\\ndialog: Those pricks know the terrain better than\\nany of us. We need to force them down -\\n\\ntext: Vidal sticks pins into one of the larger maps.\\n\\nspeaker_heading: VIDAL\\n\\ndialog: -let\\'s block their access to medicine and supplies.\\n\\ntext: Mercedes enters bearing a tray of olives, cold cuts and a\\nbottle of Orujo liquor.\\n\\nspeaker_heading: VIDAL\\n\\ndialog: We\\'ll set up three command posts. Here,\\nhere and here.\\n\\ntext: Mercedes glances briefly at the maps, concealing avid interest.\\nSuddenly, Vidal grabs Mercedes by the arm.\\n\\nspeaker_heading: VIDAL\\n\\ndialog: Have Dr. Ferreiro come see me.\\n\\nspeaker_heading: MERCEDES\\n\\ndialog: Yes, Sir...\\n\\ntext: Turning his attention back to his maps, Vidal takes two\\nolives and pops them into his mouth.\\n\\nspeaker_heading: VIDAL\\n\\ndialog: (chewing)\\nThose bastards are going to starve...\\nyou\\'ll see...\\n\\nscene_heading: INT. UPPER BEDROOM - DUSK\\n\\ntext: The doctor stirs some drops of medicine into a glass of\\nwater. Carmen lies back in a monumental carved bed. On her\\nlap there are several playing cards.\\n\\nspeaker_heading: DOCTOR\\n\\ndialog: Just four drops at bedtime and you\\'ll\\nsleep all night long.\\n\\ntext: He gives her the water and the medicine vial. Carmen drinks\\nweakly. Ofelia stands by her side.\\n\\nspeaker_heading: DOCTOR\\n\\ndialog: Don\\'t hesitate to call if you need\\nanything, Madame. You- or your little\\nnurse.\\n\\ntext: He grins at Ofelia, then exits the room. Carmen gives Ofelia\\nthe medicine vial.\\n\\nspeaker_heading: CARMEN\\n\\ndialog: Go. Close the door so I can sleep.\\n\\nscene_heading: INT. FOYER/STAIRWAY - NIGHT\\n\\ntext: In the hallway, the doctor finds Mercedes waiting for him.\\nThey proceed in silence down the hallway and look down into the foyer: empty.\\n\\nspeaker_heading: MERCEDES\\n\\ndialog: You must come up the mountain and see him-\\nthe leg wound- its getting worse...\\n\\ntext: The doctor nods timidly and gives Mercedes a small PACKAGE\\nwrapped in dark paper and neatly tied in string.\\n\\nspeaker_heading: DOCTOR\\n\\ndialog: This is all I could get. I\\'m sorry.\\n\\ntext: Mercedes sighs, disappointed.\\n\\nspeaker_heading: MERCEDES\\n\\ndialog: He\\'s downstairs- don\\'t keep him waiting.\\n\\ntext: The doctor moves downstairs. Mercedes glances toward the\\nUpper Bedroom and discovers Ofelia, watching her attentively- how long has\\nshe been there?\\nThe girl closes the door quietly.\\n\\nscene_heading: INT. UPPER BEDROOM - NIGHT\\n\\ntext: Ofelia takes off her shoes and climbs into her mother\\'s bed.\\nAs she cuddles close to her mother-\\n\\nspeaker_heading: CARMEN\\n\\ndialog: Jesus- Your feet- they\\'re frozen.\\n\\ntext: She caresses Ofelia\\'s head. The wind picks up and the house\\ntimbers moan and creak.\\n\\nspeaker_heading: CARMEN\\n\\ndialog: Are you scared?\\n\\nspeaker_heading: OFELIA.\\n\\ndialog: A little bit.\\n\\nspeaker_heading: OFELIA.\\n\\ndialog: What\\'s that noise?\\n\\nspeaker_heading: CARMEN\\n\\ndialog: Nothing, just the wind. Nights here are\\ndifferent from city nights. There, you\\nhear cars, trains. Here the houses are\\nold and creaky.\\n\\ntext: The house utters a series of deep, rumbling noises.\\n\\nspeaker_heading: CARMEN\\n\\ndialog: Almost like they\\'re speaking.\\n\\ntext: Tomorrow, I\\'m going to give you something\\nspecial.\\n\\nspeaker_heading: OFELIA.\\n\\ndialog: A book?\\n\\nspeaker_heading: CARMEN\\n\\ndialog: No, something much better.\\n\\ntext: A beat of silence and then-\\n\\nspeaker_heading: OFELIA.\\n\\ndialog: Why did you have to get married?\\n\\nspeaker_heading: CARMEN\\n\\ndialog: We were alone too long.\\n\\nspeaker_heading: OFELIA.\\n\\ndialog: You weren\\'t alone. You were never alone.\\n\\nspeaker_heading: CARMEN\\n\\ndialog: When you\\'re older you\\'ll understand. It\\nhasn\\'t been easy for me.\\n\\ntext: She winces in pain-\\n\\nspeaker_heading: CARMEN\\n\\ndialog: Your brother\\'s- he\\'s acting up. Tell him\\none of your stories so he\\'ll calm down.\\n\\ntext: Ofelia gently leans on her mother\\'s stomach and taps it with\\none finger, as if it were a telegraph key.\\n\\nspeaker_heading: CARMEN\\n\\ndialog: My brother, my brother...\\n\\ntext: Carmen closes her eyes and listens to her daughter\\'s voice-\\n\\nspeaker_heading: OFELIA.\\n\\ndialog: ... a long, long time ago in a grey, sad\\ncountry...\\n\\n\\n\\n\\n\\n'"
            ],
            "application/vnd.google.colaboratory.intrinsic+json": {
              "type": "string"
            }
          },
          "metadata": {},
          "execution_count": 18
        }
      ]
    },
    {
      "cell_type": "code",
      "source": [
        "line_extractor = r\"(START|text|speaker_heading|dialog)([^\\f]*?)(?=text|speaker_heading|dialog|END SCENE)\"\n",
        "scene_extractor = r\"(scene_heading|text|speaker_heading|dialog)([^\\f]*?)(?=scene_heading|\\n\\n\\n\\n\\n\\n)\""
      ],
      "metadata": {
        "id": "nAOM4cTfrcSt"
      },
      "execution_count": 19,
      "outputs": []
    },
    {
      "cell_type": "code",
      "source": [
        "by_scene: list = re.findall(scene_extractor, data, flags = re.MULTILINE)\n",
        "by_scene"
      ],
      "metadata": {
        "colab": {
          "base_uri": "https://localhost:8080/"
        },
        "id": "21Gt5suJtP6D",
        "outputId": "021fa1f8-f732-4adb-e835-4e701ee8a6c7"
      },
      "execution_count": 21,
      "outputs": [
        {
          "output_type": "execute_result",
          "data": {
            "text/plain": [
              "[('scene_heading',\n",
              "  \": EXT. LABYRINTH - NIGHT\\n\\ntext: In the foreground, OFELIA - 11 years old, skin white as\\nsnow, ruby lips and ebony hair - is sprawled on the ground.\\nA thick ribbon of blood runs from her nose.\\nBut - the blood is flowing backward into her nostril. Drop\\nby drop, the blood leaps up and disappears.\\nOfelia's pupils dilate-\\n\\nspeaker_heading: NARRATOR\\n\\ndialog: Long ago in the Underground Realm...\\n\\ntext: CAMERA MOVES INTO THE DARK PUPIL-\\n\\nspeaker_heading: NARRATOR\\n\\ndialog: ...where there are no lies or pain, there\\nlived a Princess who dreamt of the human\\nworld.\\n\\ntext: The sound of muffled wind.\\n\\nspeaker_heading: NARRATOR\\n\\ndialog: She dreamt of blue skies, the soft breeze\\nand sunshine...\\n\\ntext: A dark CASTLE takes shape. Here, a tower... there, a\\nturret... and lighted windows.\\nFinally, the damp, mildewed walls of a water well come into\\nfocus.\\n\\nspeaker_heading: NARRATOR\\n\\ndialog: One day, eluding her keepers, the\\nPrincess escaped.\\n\\ntext: A woman's silhouette crosses CAMERA-\\n\\nspeaker_heading: NARRATOR\\n\\ndialog: Once outside, the brightness blinded her\\nand erased her memory...\\n\\ntext: A circular staircase leads up... toward daylight, where the\\nimage...\\n\\nspeaker_heading: NARRATOR\\n\\ndialog: She forgot who she was and where she came\\nfrom. Her body suffered cold, sickness\\nand pain. Eventually, she died.\\n\\n\"),\n",
              " ('scene_heading',\n",
              "  \": EXT. BOMBED CITY - DAY\\n\\ntext: CAMERA TRACKS past scenes of destruction: bombed-out\\nbuildings... cathedrals in ruins.\\n\\nspeaker_heading: NARRATOR\\n\\ndialog: Her father, the King, always knew that\\nthe Princess would return, perhaps in\\nanother body, in another place, at\\nanother time.\\n\\ntext: On half-demolished walls, Falangist posters declare Franco's\\ntriumph. Among the ruins, smaller, poignant traces of war:\\nshoes, broken eye-glasses...\\n\\nspeaker_heading: NARRATOR\\n\\ndialog: And he would wait for her, until he drew\\nhis last breath, until the world stopped\\nturning...\\n\\ntext: Through the ruined buildings, a SMALL CARAVAN OF BLACK\\nBENTLEY CARS comes into view.\\nThe shiny chrome fenders pass directly by CAMERA; they bear\\nall the Fascist insignias and flags.\\n\\n\"),\n",
              " ('scene_heading',\n",
              "  \": INT. MAIN CAR - SAME\\n\\ntext: Looking out the window: OFELIA.\\nShe's dressed in plain, slightly frayed clothing. Not very\\ndainty. On her lap is a book of fairy tales.\\nCAMERA studies one of the watercolors that adorn the pages:\\nan illustration of a little girl dancing with several\\nfairies flying around her.\\nAt her side, a small pile of similar books in a book strap.\\n\\nspeaker_heading: CARMEN\\n\\ndialog: I don't understand why you had to bring\\nso many books, Ofelia.\\n\\ntext: Ofelia turns her gaze toward the opposite seat, where her\\nmother, CARMEN, 28, is napping, her enormous stomach\\nevidence of advanced pregnancy. She, too, has black hair.\\n\\nspeaker_heading: CARMEN\\n\\ndialog: We're going to the country... the\\noutdoors... plenty of fresh air.\\n\\ntext: She takes the book away from Ofelia.\\n\\nspeaker_heading: CARMEN\\n\\ndialog: Fairy tales? You're too old to be filling\\nyour head with such nonsense.\\n\\ntext: She pauses, feeling nausea.\\n\\nspeaker_heading: CARMEN\\n\\ndialog: Ask them to stop the car- please-\\n\\ntext: Ofelia knocks on the partition window of the sedan. The\\nDriver stops.\\n\\n\"),\n",
              " ('scene_heading',\n",
              "  ': EXT. WOODS - SAME\\n\\ntext: The caravan of cars stops. Carmen hurriedly climbs down and\\nmoves to the front of the main car.\\nGasping for air, she battles the nausea. Ofelia timidly\\napproaches her.\\n\\nspeaker_heading: CARMEN\\n\\ndialog: Ofelia, wait up.\\n\\ntext: She grabs her pregnant abdomen.\\n\\nspeaker_heading: CARMEN\\n\\ndialog: Your brother\\'s not well.\\n\\ntext: Ofelia nods and moves away. SERRANO, a military man, climbs\\nout of the car behind them and approaches Carmen solicitous.\\n\\nspeaker_heading: SERRANO\\n\\ndialog: Madam, are you feeling ill?\\n\\nspeaker_heading: CARMEN\\n\\ndialog: Water- just a bit of water-\\n\\nspeaker_heading: SERRANO\\n\\ndialog: (to one of his men)\\nWater, bring water for the Captain\\'s\\nwife.\\n\\ntext: Ofelia walks alongside the road, moving into the woods and\\nfurther away from the caravan of cars.\\nCAMERA surveys the heavy forest: a tangled tapestry of moss\\nand fog. The trees, swayed by the wind, murmur softly around Ofelia.\\nShe stumbles upon a strange stone by the side of the road.\\nRoughly the size of a fist- carved on it, the outline of a\\nhuman EYE.\\nFascinated, the young girl picks it up.\\nShe looks around and finds -amidst the shrubs- an ancient\\nstone monolith incised with Celtic lettering.\\nIt\\'s crowned with the grotesque face of a satyr- mouth open\\nwide.\\nA piece of the brutish face is missing: an eye.\\nOfelia fits the piece of engraved stone in the missing area.\\nA perfect fit.\\nFrom inside the statue a clicking noise emerges. The wind\\npicks up and out of the satyr\\'s open mouth, a STICK INSECT lazily crawls\\nout. Ofelia smiles. The insect climbs atop the stone head\\nand studies the girl for a moment. Then\\n\\nspeaker_heading: CARMEN\\n\\ndialog: Ofelia??\\n\\ntext: The sound of Carmen\\'s voice startles the creature, which flies\\noff. Ofelia runs to her mother\\'s side.\\n\\nspeaker_heading: OFELIA.\\n\\ndialog: (enthusiastic)\\nA fairy- I saw a fairy!!\\n\\nspeaker_heading: CARMEN\\n\\ndialog: Oh- look at your shoes!! They\\'re covered\\nin mud!\\n\\ntext: They head back to the caravan.\\n\\nspeaker_heading: CARMEN\\n\\ndialog: When we get to the mill I want you to\\ngreet Captain Vidal.\\nThat man- has been very good to us,\\ndarling. You have no idea-\\nSo, I want you to call him \"Father.\" Do\\nyou hear me? \"Father...\"\\nIt\\'s just a word, Ofelia.\\n\\ntext: The Stick Insect lands in a nearby tree and observes inquisitively\\nas Mother and daughter climb into the main car and head off.\\nA beat later, the Stick Insect flies after them.\\n\\n'),\n",
              " ('scene_heading',\n",
              "  \":  INT. WATER MILL - DAY\\n\\ntext: CLOSE-UP: a gold pocket watch, on a heavy chain. The glass\\ndial is cracked...\\nA gloved THUMB snaps the cover shut. A VOICE - CAPTAIN VIDAL\\n- mutters in irritation.\\n\\nspeaker_heading: VIDAL\\n\\ndialog: Fifteen minutes late.\\n\\ntext: ANGLE WIDENS to describe a dilapidated WATER MILL.\\nThe site consists of a pair of dark stone buildings with\\ncorrugated roofs, connected to the mill by a small stone\\nbridge. A large water wheel hangs over the dry riverbed.\\nThe wooden beams and columns bear sculpted Celtic motifs and\\nhere and there, small, odd, carved creatures.\\nThe walls have been reinforced with hundreds of sand-bags\\nand wooden pontoons, as if preparing for an attack.\\nCAPTAIN VIDAL and a small group of SERVANTS and SOLDIERS\\nwait patiently outside.\\n\\nspeaker_heading: SOLDIER\\n\\ndialog: Captain!! They're here-\\n\\ntext: The caravan of Bentleys stops in front of the building. Vidal\\nand his group moves in. Servants and Soldiers unload luggage\\nwithy military efficiency. In charge is MERCEDES, a young\\nbut strict country woman.\\nVidal greets Carmen.\\n\\nspeaker_heading: VIDAL\\n\\ndialog: Carmen- Welcome-\\n\\ntext: With a pleasant smile, he touches her pregnant belly and\\nthen points at a wooden wheelchair pushed to Carmen's side\\nby a small, nervous man SGT. GARCES. By his side stands\\nDOCTOR FERREIRO, a pleasant, scholarly man in his mid\\nforties.\\n\\nspeaker_heading: CARMEN\\n\\ndialog: I- I don't need it- I can walk by myself.\\n\\nspeaker_heading: VIDAL\\n\\ndialog: Doctor Ferreiro prefers that you don't\\nexert yourself.\\n\\nspeaker_heading: CARMEN\\n\\ndialog: N-no...\\n\\ntext: Vidal leans towards her and whispers -ever so softly- in her\\near:\\n\\nspeaker_heading: VIDAL\\n\\ndialog: Then do it for me...\\n\\ntext: She obeys. As she sits, Ofelia exits the automobile, holding\\nher books close to her chest.\\n\\nspeaker_heading: CARMEN\\n\\ndialog: Ofelia. Greet the Captain.\\n\\ntext:  She is wheeled away. An awkward silence passes between the\\nyoung girl and the Captain.\\n\\nspeaker_heading: VIDAL\\n\\ndialog: Ofelia-\\n\\ntext: The girl extends her hand. He grabs it, firm but cold. It is\\nher left hand.\\n\\nspeaker_heading: VIDAL\\n\\ndialog:  It's the other hand, Ofelia.\\n\\ntext: He turns to the servants.\\n\\nspeaker_heading: VIDAL\\n\\ndialog: Mercedes, take my wife's luggage to her\\nroom-\\n\\nspeaker_heading: MERCEDES\\n\\ndialog: Yes, sir.\\n\\ntext: Mercedes glances back to find Ofelia curiously gazing at-\\n-a pile of sandbags. Perched on top-\\n-the big Stick Insect.\\nIt fans out its multiple wings. Twice. Ofelia runs over and\\ntries to catch it.\\nBut the Stick Insect takes off and escapes. The girl drops her\\nbooks and goes after it.\\n\\n\"),\n",
              " ('scene_heading',\n",
              "  \": EXT. GARDENS - FURTHER - CONTINUOUS\\n\\ntext: Ofelia follows the Stick Insect to the edge of a small rise.\\nShe follows it with her eyes and sees, about 100 meters\\naway, surrounded by trees, the ruins of a garden LABYRINTH.\\nThe CAMERA glides up for a better view. The labyrinth is\\ncircular, its paths overgrown and partially blocked.\\nOfelia enters the labyrinth through an archway. She ventures\\ndown one of its pathways and stops-\\n\\nspeaker_heading: MERCEDES\\n\\ndialog: It's a labyrinth-\\n\\ntext: Ofelia turns- the young woman stands by her side. Ofelia's\\nbooks in hand.\\n\\nspeaker_heading: MERCEDES\\n\\ndialog: Just a pile of old stones.\\nThey've always been there, even before\\nthe mill. Better you don't go near it-\\nYou could get lost.\\n\\ntext: A ray of sunlight breaks through the grey clouds and\\nilluminates the old ruins. Mercedes hands her the books.\\n\\nspeaker_heading: OFELIA.\\n\\ndialog: Thank you.\\n\\nspeaker_heading: MERCEDES\\n\\ndialog: Have you read them all?\\n\\ntext: Garcés shouts from the mill:\\n\\nspeaker_heading: GARCES\\n\\ndialog: Mercedes!\\n(Mercedes reacts)\\nThe Captain’s calling you.\\n\\ntext: Mercedes makes a small gesture of goodbye to Ofelia.\\n\\nspeaker_heading: MERCEDES\\n\\ndialog: Your father needs me.\\n\\ntext: She turns and walks away-\\n\\nspeaker_heading: OFELIA.\\n\\ndialog: He's not my father.\\n\\ntext: Mercedes doesn't understand. The girl runs up to her.\\n\\nspeaker_heading: OFELIA.\\n\\ndialog: The Captain- he's not my father. My\\nfather was a tailor. He died in the war. The Captain’s not my father!\\n\\ntext: Mercedes can't help but smile at the girl's sudden\\nvehemence.\\n\\nspeaker_heading: MERCEDES\\n\\ndialog: Well, you've made that clear enough.\\n\\ntext: They walk away together.\\n\\nspeaker_heading: OFELIA.\\n\\ndialog: Did you see my mother?\\n(Mercedes nods)\\nShe's pretty isn't she?\\n(Mercedes nods)\\nYou saw her belly? She's sick with child.\\n\\ntext: As they go into the house, the Stick Insect - perched atop\\nthe labyrinth's archway - monitors their every move.\\n\\n\"),\n",
              " ('scene_heading',\n",
              "  \": INT. DINING ROOM - NIGHT\\n\\nspeaker_heading: VIDAL\\n\\ndialog: The guerillas are sticking to the woods\\nbecause it's hard to track them down up\\nthere.\\n\\ntext: Vidal is standing at an enormous dining table. Serrano,\\nGarcés and a few lower-ranking officials surround him.\\n\\nspeaker_heading: VIDAL\\n\\ndialog: Those pricks know the terrain better than\\nany of us. We need to force them down -\\n\\ntext: Vidal sticks pins into one of the larger maps.\\n\\nspeaker_heading: VIDAL\\n\\ndialog: -let's block their access to medicine and supplies.\\n\\ntext: Mercedes enters bearing a tray of olives, cold cuts and a\\nbottle of Orujo liquor.\\n\\nspeaker_heading: VIDAL\\n\\ndialog: We'll set up three command posts. Here,\\nhere and here.\\n\\ntext: Mercedes glances briefly at the maps, concealing avid interest.\\nSuddenly, Vidal grabs Mercedes by the arm.\\n\\nspeaker_heading: VIDAL\\n\\ndialog: Have Dr. Ferreiro come see me.\\n\\nspeaker_heading: MERCEDES\\n\\ndialog: Yes, Sir...\\n\\ntext: Turning his attention back to his maps, Vidal takes two\\nolives and pops them into his mouth.\\n\\nspeaker_heading: VIDAL\\n\\ndialog: (chewing)\\nThose bastards are going to starve...\\nyou'll see...\\n\\n\"),\n",
              " ('scene_heading',\n",
              "  \": INT. UPPER BEDROOM - DUSK\\n\\ntext: The doctor stirs some drops of medicine into a glass of\\nwater. Carmen lies back in a monumental carved bed. On her\\nlap there are several playing cards.\\n\\nspeaker_heading: DOCTOR\\n\\ndialog: Just four drops at bedtime and you'll\\nsleep all night long.\\n\\ntext: He gives her the water and the medicine vial. Carmen drinks\\nweakly. Ofelia stands by her side.\\n\\nspeaker_heading: DOCTOR\\n\\ndialog: Don't hesitate to call if you need\\nanything, Madame. You- or your little\\nnurse.\\n\\ntext: He grins at Ofelia, then exits the room. Carmen gives Ofelia\\nthe medicine vial.\\n\\nspeaker_heading: CARMEN\\n\\ndialog: Go. Close the door so I can sleep.\\n\\n\"),\n",
              " ('scene_heading',\n",
              "  \": INT. FOYER/STAIRWAY - NIGHT\\n\\ntext: In the hallway, the doctor finds Mercedes waiting for him.\\nThey proceed in silence down the hallway and look down into the foyer: empty.\\n\\nspeaker_heading: MERCEDES\\n\\ndialog: You must come up the mountain and see him-\\nthe leg wound- its getting worse...\\n\\ntext: The doctor nods timidly and gives Mercedes a small PACKAGE\\nwrapped in dark paper and neatly tied in string.\\n\\nspeaker_heading: DOCTOR\\n\\ndialog: This is all I could get. I'm sorry.\\n\\ntext: Mercedes sighs, disappointed.\\n\\nspeaker_heading: MERCEDES\\n\\ndialog: He's downstairs- don't keep him waiting.\\n\\ntext: The doctor moves downstairs. Mercedes glances toward the\\nUpper Bedroom and discovers Ofelia, watching her attentively- how long has\\nshe been there?\\nThe girl closes the door quietly.\\n\\n\"),\n",
              " ('scene_heading',\n",
              "  \": INT. UPPER BEDROOM - NIGHT\\n\\ntext: Ofelia takes off her shoes and climbs into her mother's bed.\\nAs she cuddles close to her mother-\\n\\nspeaker_heading: CARMEN\\n\\ndialog: Jesus- Your feet- they're frozen.\\n\\ntext: She caresses Ofelia's head. The wind picks up and the house\\ntimbers moan and creak.\\n\\nspeaker_heading: CARMEN\\n\\ndialog: Are you scared?\\n\\nspeaker_heading: OFELIA.\\n\\ndialog: A little bit.\\n\\nspeaker_heading: OFELIA.\\n\\ndialog: What's that noise?\\n\\nspeaker_heading: CARMEN\\n\\ndialog: Nothing, just the wind. Nights here are\\ndifferent from city nights. There, you\\nhear cars, trains. Here the houses are\\nold and creaky.\\n\\ntext: The house utters a series of deep, rumbling noises.\\n\\nspeaker_heading: CARMEN\\n\\ndialog: Almost like they're speaking.\\n\\ntext: Tomorrow, I'm going to give you something\\nspecial.\\n\\nspeaker_heading: OFELIA.\\n\\ndialog: A book?\\n\\nspeaker_heading: CARMEN\\n\\ndialog: No, something much better.\\n\\ntext: A beat of silence and then-\\n\\nspeaker_heading: OFELIA.\\n\\ndialog: Why did you have to get married?\\n\\nspeaker_heading: CARMEN\\n\\ndialog: We were alone too long.\\n\\nspeaker_heading: OFELIA.\\n\\ndialog: You weren't alone. You were never alone.\\n\\nspeaker_heading: CARMEN\\n\\ndialog: When you're older you'll understand. It\\nhasn't been easy for me.\\n\\ntext: She winces in pain-\\n\\nspeaker_heading: CARMEN\\n\\ndialog: Your brother's- he's acting up. Tell him\\none of your stories so he'll calm down.\\n\\ntext: Ofelia gently leans on her mother's stomach and taps it with\\none finger, as if it were a telegraph key.\\n\\nspeaker_heading: CARMEN\\n\\ndialog: My brother, my brother...\\n\\ntext: Carmen closes her eyes and listens to her daughter's voice-\\n\\nspeaker_heading: OFELIA.\\n\\ndialog: ... a long, long time ago in a grey, sad\\ncountry...\")]"
            ]
          },
          "metadata": {},
          "execution_count": 21
        }
      ]
    },
    {
      "cell_type": "code",
      "source": [
        "df = pd.DataFrame(by_scene, columns=['headings', 'text'])\n",
        "df['text'] = 'scene_heading' + df['text'].astype(str) + 'END SCENE'\n",
        "#print(df['text'][0])"
      ],
      "metadata": {
        "id": "hAl3ELRzuyce"
      },
      "execution_count": 22,
      "outputs": []
    },
    {
      "cell_type": "code",
      "source": [
        "df['sceneID'] = range(len(df))\n",
        "df['scriptID'] = 0"
      ],
      "metadata": {
        "id": "VEIOMJBou2eI"
      },
      "execution_count": 23,
      "outputs": []
    },
    {
      "cell_type": "code",
      "source": [
        "regex = r\"\\b[A-Z]+\\b\"\n",
        "\n",
        "upper = []\n",
        "for i in df['text']:\n",
        "  x: list = re.findall(regex, i, flags = re.MULTILINE)\n",
        "  upper.append(x)\n",
        "df['upper'] = upper"
      ],
      "metadata": {
        "id": "aAflVKLHxzE_"
      },
      "execution_count": 25,
      "outputs": []
    },
    {
      "cell_type": "code",
      "source": [
        "df = df[['scriptID','sceneID','text', 'upper']]\n",
        "df"
      ],
      "metadata": {
        "colab": {
          "base_uri": "https://localhost:8080/",
          "height": 363
        },
        "id": "1We23pdku4GC",
        "outputId": "b272e738-fc3f-47a9-af48-ff437763acad"
      },
      "execution_count": 26,
      "outputs": [
        {
          "output_type": "execute_result",
          "data": {
            "text/plain": [
              "   scriptID  sceneID                                               text  \\\n",
              "0         0        0  scene_heading: EXT. LABYRINTH - NIGHT\\n\\ntext:...   \n",
              "1         0        1  scene_heading: EXT. BOMBED CITY - DAY\\n\\ntext:...   \n",
              "2         0        2  scene_heading: INT. MAIN CAR - SAME\\n\\ntext: L...   \n",
              "3         0        3  scene_heading: EXT. WOODS - SAME\\n\\ntext: The ...   \n",
              "4         0        4  scene_heading:  INT. WATER MILL - DAY\\n\\ntext:...   \n",
              "5         0        5  scene_heading: EXT. GARDENS - FURTHER - CONTIN...   \n",
              "6         0        6  scene_heading: INT. DINING ROOM - NIGHT\\n\\nspe...   \n",
              "7         0        7  scene_heading: INT. UPPER BEDROOM - DUSK\\n\\nte...   \n",
              "8         0        8  scene_heading: INT. FOYER/STAIRWAY - NIGHT\\n\\n...   \n",
              "9         0        9  scene_heading: INT. UPPER BEDROOM - NIGHT\\n\\nt...   \n",
              "\n",
              "                                               upper  \n",
              "0  [EXT, LABYRINTH, NIGHT, OFELIA, A, NARRATOR, C...  \n",
              "1  [EXT, BOMBED, CITY, DAY, CAMERA, TRACKS, NARRA...  \n",
              "2  [INT, MAIN, CAR, SAME, OFELIA, CAMERA, CARMEN,...  \n",
              "3  [EXT, WOODS, SAME, CARMEN, CARMEN, SERRANO, SE...  \n",
              "4  [INT, WATER, MILL, DAY, CLOSE, UP, A, THUMB, A...  \n",
              "5  [EXT, GARDENS, FURTHER, CONTINUOUS, LABYRINTH,...  \n",
              "6  [INT, DINING, ROOM, NIGHT, VIDAL, VIDAL, VIDAL...  \n",
              "7  [INT, UPPER, BEDROOM, DUSK, DOCTOR, DOCTOR, CA...  \n",
              "8  [INT, FOYER, STAIRWAY, NIGHT, MERCEDES, PACKAG...  \n",
              "9  [INT, UPPER, BEDROOM, NIGHT, CARMEN, CARMEN, O...  "
            ],
            "text/html": [
              "\n",
              "  <div id=\"df-27ee2256-c733-45b4-acc9-a948db62f6bf\">\n",
              "    <div class=\"colab-df-container\">\n",
              "      <div>\n",
              "<style scoped>\n",
              "    .dataframe tbody tr th:only-of-type {\n",
              "        vertical-align: middle;\n",
              "    }\n",
              "\n",
              "    .dataframe tbody tr th {\n",
              "        vertical-align: top;\n",
              "    }\n",
              "\n",
              "    .dataframe thead th {\n",
              "        text-align: right;\n",
              "    }\n",
              "</style>\n",
              "<table border=\"1\" class=\"dataframe\">\n",
              "  <thead>\n",
              "    <tr style=\"text-align: right;\">\n",
              "      <th></th>\n",
              "      <th>scriptID</th>\n",
              "      <th>sceneID</th>\n",
              "      <th>text</th>\n",
              "      <th>upper</th>\n",
              "    </tr>\n",
              "  </thead>\n",
              "  <tbody>\n",
              "    <tr>\n",
              "      <th>0</th>\n",
              "      <td>0</td>\n",
              "      <td>0</td>\n",
              "      <td>scene_heading: EXT. LABYRINTH - NIGHT\\n\\ntext:...</td>\n",
              "      <td>[EXT, LABYRINTH, NIGHT, OFELIA, A, NARRATOR, C...</td>\n",
              "    </tr>\n",
              "    <tr>\n",
              "      <th>1</th>\n",
              "      <td>0</td>\n",
              "      <td>1</td>\n",
              "      <td>scene_heading: EXT. BOMBED CITY - DAY\\n\\ntext:...</td>\n",
              "      <td>[EXT, BOMBED, CITY, DAY, CAMERA, TRACKS, NARRA...</td>\n",
              "    </tr>\n",
              "    <tr>\n",
              "      <th>2</th>\n",
              "      <td>0</td>\n",
              "      <td>2</td>\n",
              "      <td>scene_heading: INT. MAIN CAR - SAME\\n\\ntext: L...</td>\n",
              "      <td>[INT, MAIN, CAR, SAME, OFELIA, CAMERA, CARMEN,...</td>\n",
              "    </tr>\n",
              "    <tr>\n",
              "      <th>3</th>\n",
              "      <td>0</td>\n",
              "      <td>3</td>\n",
              "      <td>scene_heading: EXT. WOODS - SAME\\n\\ntext: The ...</td>\n",
              "      <td>[EXT, WOODS, SAME, CARMEN, CARMEN, SERRANO, SE...</td>\n",
              "    </tr>\n",
              "    <tr>\n",
              "      <th>4</th>\n",
              "      <td>0</td>\n",
              "      <td>4</td>\n",
              "      <td>scene_heading:  INT. WATER MILL - DAY\\n\\ntext:...</td>\n",
              "      <td>[INT, WATER, MILL, DAY, CLOSE, UP, A, THUMB, A...</td>\n",
              "    </tr>\n",
              "    <tr>\n",
              "      <th>5</th>\n",
              "      <td>0</td>\n",
              "      <td>5</td>\n",
              "      <td>scene_heading: EXT. GARDENS - FURTHER - CONTIN...</td>\n",
              "      <td>[EXT, GARDENS, FURTHER, CONTINUOUS, LABYRINTH,...</td>\n",
              "    </tr>\n",
              "    <tr>\n",
              "      <th>6</th>\n",
              "      <td>0</td>\n",
              "      <td>6</td>\n",
              "      <td>scene_heading: INT. DINING ROOM - NIGHT\\n\\nspe...</td>\n",
              "      <td>[INT, DINING, ROOM, NIGHT, VIDAL, VIDAL, VIDAL...</td>\n",
              "    </tr>\n",
              "    <tr>\n",
              "      <th>7</th>\n",
              "      <td>0</td>\n",
              "      <td>7</td>\n",
              "      <td>scene_heading: INT. UPPER BEDROOM - DUSK\\n\\nte...</td>\n",
              "      <td>[INT, UPPER, BEDROOM, DUSK, DOCTOR, DOCTOR, CA...</td>\n",
              "    </tr>\n",
              "    <tr>\n",
              "      <th>8</th>\n",
              "      <td>0</td>\n",
              "      <td>8</td>\n",
              "      <td>scene_heading: INT. FOYER/STAIRWAY - NIGHT\\n\\n...</td>\n",
              "      <td>[INT, FOYER, STAIRWAY, NIGHT, MERCEDES, PACKAG...</td>\n",
              "    </tr>\n",
              "    <tr>\n",
              "      <th>9</th>\n",
              "      <td>0</td>\n",
              "      <td>9</td>\n",
              "      <td>scene_heading: INT. UPPER BEDROOM - NIGHT\\n\\nt...</td>\n",
              "      <td>[INT, UPPER, BEDROOM, NIGHT, CARMEN, CARMEN, O...</td>\n",
              "    </tr>\n",
              "  </tbody>\n",
              "</table>\n",
              "</div>\n",
              "      <button class=\"colab-df-convert\" onclick=\"convertToInteractive('df-27ee2256-c733-45b4-acc9-a948db62f6bf')\"\n",
              "              title=\"Convert this dataframe to an interactive table.\"\n",
              "              style=\"display:none;\">\n",
              "        \n",
              "  <svg xmlns=\"http://www.w3.org/2000/svg\" height=\"24px\"viewBox=\"0 0 24 24\"\n",
              "       width=\"24px\">\n",
              "    <path d=\"M0 0h24v24H0V0z\" fill=\"none\"/>\n",
              "    <path d=\"M18.56 5.44l.94 2.06.94-2.06 2.06-.94-2.06-.94-.94-2.06-.94 2.06-2.06.94zm-11 1L8.5 8.5l.94-2.06 2.06-.94-2.06-.94L8.5 2.5l-.94 2.06-2.06.94zm10 10l.94 2.06.94-2.06 2.06-.94-2.06-.94-.94-2.06-.94 2.06-2.06.94z\"/><path d=\"M17.41 7.96l-1.37-1.37c-.4-.4-.92-.59-1.43-.59-.52 0-1.04.2-1.43.59L10.3 9.45l-7.72 7.72c-.78.78-.78 2.05 0 2.83L4 21.41c.39.39.9.59 1.41.59.51 0 1.02-.2 1.41-.59l7.78-7.78 2.81-2.81c.8-.78.8-2.07 0-2.86zM5.41 20L4 18.59l7.72-7.72 1.47 1.35L5.41 20z\"/>\n",
              "  </svg>\n",
              "      </button>\n",
              "      \n",
              "  <style>\n",
              "    .colab-df-container {\n",
              "      display:flex;\n",
              "      flex-wrap:wrap;\n",
              "      gap: 12px;\n",
              "    }\n",
              "\n",
              "    .colab-df-convert {\n",
              "      background-color: #E8F0FE;\n",
              "      border: none;\n",
              "      border-radius: 50%;\n",
              "      cursor: pointer;\n",
              "      display: none;\n",
              "      fill: #1967D2;\n",
              "      height: 32px;\n",
              "      padding: 0 0 0 0;\n",
              "      width: 32px;\n",
              "    }\n",
              "\n",
              "    .colab-df-convert:hover {\n",
              "      background-color: #E2EBFA;\n",
              "      box-shadow: 0px 1px 2px rgba(60, 64, 67, 0.3), 0px 1px 3px 1px rgba(60, 64, 67, 0.15);\n",
              "      fill: #174EA6;\n",
              "    }\n",
              "\n",
              "    [theme=dark] .colab-df-convert {\n",
              "      background-color: #3B4455;\n",
              "      fill: #D2E3FC;\n",
              "    }\n",
              "\n",
              "    [theme=dark] .colab-df-convert:hover {\n",
              "      background-color: #434B5C;\n",
              "      box-shadow: 0px 1px 3px 1px rgba(0, 0, 0, 0.15);\n",
              "      filter: drop-shadow(0px 1px 2px rgba(0, 0, 0, 0.3));\n",
              "      fill: #FFFFFF;\n",
              "    }\n",
              "  </style>\n",
              "\n",
              "      <script>\n",
              "        const buttonEl =\n",
              "          document.querySelector('#df-27ee2256-c733-45b4-acc9-a948db62f6bf button.colab-df-convert');\n",
              "        buttonEl.style.display =\n",
              "          google.colab.kernel.accessAllowed ? 'block' : 'none';\n",
              "\n",
              "        async function convertToInteractive(key) {\n",
              "          const element = document.querySelector('#df-27ee2256-c733-45b4-acc9-a948db62f6bf');\n",
              "          const dataTable =\n",
              "            await google.colab.kernel.invokeFunction('convertToInteractive',\n",
              "                                                     [key], {});\n",
              "          if (!dataTable) return;\n",
              "\n",
              "          const docLinkHtml = 'Like what you see? Visit the ' +\n",
              "            '<a target=\"_blank\" href=https://colab.research.google.com/notebooks/data_table.ipynb>data table notebook</a>'\n",
              "            + ' to learn more about interactive tables.';\n",
              "          element.innerHTML = '';\n",
              "          dataTable['output_type'] = 'display_data';\n",
              "          await google.colab.output.renderOutput(dataTable, element);\n",
              "          const docLink = document.createElement('div');\n",
              "          docLink.innerHTML = docLinkHtml;\n",
              "          element.appendChild(docLink);\n",
              "        }\n",
              "      </script>\n",
              "    </div>\n",
              "  </div>\n",
              "  "
            ]
          },
          "metadata": {},
          "execution_count": 26
        }
      ]
    },
    {
      "cell_type": "code",
      "source": [],
      "metadata": {
        "id": "zuypaReou51I"
      },
      "execution_count": null,
      "outputs": []
    }
  ]
}